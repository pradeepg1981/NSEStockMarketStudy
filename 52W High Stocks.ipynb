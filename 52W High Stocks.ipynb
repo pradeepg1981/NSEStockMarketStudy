{
 "cells": [
  {
   "cell_type": "code",
   "execution_count": 1,
   "metadata": {},
   "outputs": [],
   "source": [
    "import pandas as pd\n",
    "import numpy as np\n",
    "import math\n",
    "import matplotlib.pyplot as plt\n",
    "import scipy.stats as stats\n",
    "import yfinance as yfin\n",
    "\n",
    "import requests\n",
    "import xlsxwriter\n",
    "from datetime import date\n",
    "import datetime"
   ]
  },
  {
   "cell_type": "code",
   "execution_count": null,
   "metadata": {},
   "outputs": [],
   "source": [
    "### This function returns the data for a certain duration of time @@@@@@@@@@@@@\n",
    "#################@@@@@@@@@@@@@@@@@@@@@@@@@@@@@@\n",
    "def company(name,duration,start,end):\n",
    "    yfin\n",
    "    # name = 'HDFCLIFE.NS'\n",
    "    ticker = yfin.Ticker(name)\n",
    "    if (len(start)!= 0 and len(end)!=0):\n",
    "        print(ticker)\n",
    "        data=ticker.history(start=start,end=end)\n",
    "#         data=ticker.history(start='2020-11-15',end='2020-12-31')\n",
    "    else:\n",
    "        data=ticker.history(period=duration)\n",
    "    #     data_2y=ticker.history(period='2y')\n",
    "    # return data\n",
    "        # ticker.info\n",
    "        # ticker.financials\n",
    "    month=data.index.month\n",
    "    month=month.value_counts().index\n",
    "    month=month.sort_values(ascending=True)\n",
    "    year=data.index.year\n",
    "    year= year.value_counts().index\n",
    "    year=year.sort_values(ascending=True)\n",
    "    return (data,ticker,year,month)"
   ]
  }
 ],
 "metadata": {
  "kernelspec": {
   "display_name": "Python 3",
   "language": "python",
   "name": "python3"
  },
  "language_info": {
   "codemirror_mode": {
    "name": "ipython",
    "version": 3
   },
   "file_extension": ".py",
   "mimetype": "text/x-python",
   "name": "python",
   "nbconvert_exporter": "python",
   "pygments_lexer": "ipython3",
   "version": "3.7.4"
  }
 },
 "nbformat": 4,
 "nbformat_minor": 2
}
